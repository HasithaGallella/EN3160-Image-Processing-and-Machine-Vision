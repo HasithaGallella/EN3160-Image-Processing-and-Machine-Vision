{
  "nbformat": 4,
  "nbformat_minor": 0,
  "metadata": {
    "colab": {
      "provenance": [],
      "authorship_tag": "ABX9TyNd3IOZExLn0V8FYUfsTqKc",
      "include_colab_link": true
    },
    "kernelspec": {
      "name": "python3",
      "display_name": "Python 3"
    },
    "language_info": {
      "name": "python"
    }
  },
  "cells": [
    {
      "cell_type": "markdown",
      "metadata": {
        "id": "view-in-github",
        "colab_type": "text"
      },
      "source": [
        "<a href=\"https://colab.research.google.com/github/HasithaGallella/EN3160-Image-Processing-and-Machine-Vision/blob/main/Assignments/EN3160_210174X_A03.ipynb\" target=\"_parent\"><img src=\"https://colab.research.google.com/assets/colab-badge.svg\" alt=\"Open In Colab\"/></a>"
      ]
    },
    {
      "cell_type": "markdown",
      "metadata": {
        "id": "ED6uNf62zb0C"
      },
      "source": [
        "**EN3160 Assignment 03:** Neural Networks\n",
        "\n",
        "- Name: M.M.H.H.B Gallella\n",
        "- Index No.: 210174X\n",
        "- Submission Date: 12th November 2024\n",
        "- GitHub: https://github.com/HasithaGallella\n",
        "- Assignment Codes on: Google Colab"
      ]
    },
    {
      "cell_type": "code",
      "source": [],
      "metadata": {
        "id": "ML-PMfoFrYdU"
      },
      "execution_count": null,
      "outputs": []
    },
    {
      "cell_type": "code",
      "source": [],
      "metadata": {
        "id": "BD63G4lzqtHF"
      },
      "execution_count": null,
      "outputs": []
    }
  ]
}