{
  "nbformat": 4,
  "nbformat_minor": 0,
  "metadata": {
    "colab": {
      "provenance": [],
      "authorship_tag": "ABX9TyOcj8euUi0H4Zwq4aWgTC1l",
      "include_colab_link": true
    },
    "kernelspec": {
      "name": "python3",
      "display_name": "Python 3"
    },
    "language_info": {
      "name": "python"
    }
  },
  "cells": [
    {
      "cell_type": "markdown",
      "metadata": {
        "id": "view-in-github",
        "colab_type": "text"
      },
      "source": [
        "<a href=\"https://colab.research.google.com/github/HasithaGallella/EN3160-Image-Processing-and-Machine-Vision/blob/main/Assignments/EN3160_210174X_A03.ipynb\" target=\"_parent\"><img src=\"https://colab.research.google.com/assets/colab-badge.svg\" alt=\"Open In Colab\"/></a>"
      ]
    },
    {
      "cell_type": "markdown",
      "metadata": {
        "id": "ED6uNf62zb0C"
      },
      "source": [
        "**EN3160 Assignment 03:** Neural Networks\n",
        "\n",
        "- Name: M.M.H.H.B Gallella\n",
        "- Index No.: 210174X\n",
        "- Submission Date: 12th November 2024\n",
        "- GitHub: https://github.com/HasithaGallella\n",
        "- Assignment Codes on: Google Colab"
      ]
    },
    {
      "cell_type": "markdown",
      "source": [
        "# Check CUDA setup"
      ],
      "metadata": {
        "id": "dwc9hkOan3GM"
      }
    },
    {
      "cell_type": "code",
      "execution_count": null,
      "metadata": {
        "id": "XHJB6wjbnzwf",
        "outputId": "4a143b00-1f62-40f4-f4a1-7286b019b6a9"
      },
      "outputs": [
        {
          "name": "stdout",
          "output_type": "stream",
          "text": [
            "1\n",
            "NVIDIA GeForce RTX 2060\n"
          ]
        }
      ],
      "source": [
        "import torch\n",
        "print(torch.cuda.device_count())\n",
        "print(torch.cuda.get_device_name(0))"
      ]
    },
    {
      "cell_type": "code",
      "execution_count": null,
      "metadata": {
        "id": "qgX8dp9SlnV3",
        "outputId": "13d1cf25-baa2-430f-dab3-d4625a419262"
      },
      "outputs": [
        {
          "name": "stdout",
          "output_type": "stream",
          "text": [
            "[PhysicalDevice(name='/physical_device:GPU:0', device_type='GPU')]\n"
          ]
        }
      ],
      "source": [
        "import tensorflow as tf\n",
        "print(tf.config.list_physical_devices('GPU'))"
      ]
    },
    {
      "cell_type": "markdown",
      "source": [
        "# Create a LeNet-5 network for MNIST using Pytorch"
      ],
      "metadata": {
        "id": "acbxz_PAgxrE"
      }
    },
    {
      "cell_type": "code",
      "source": [
        "import torch\n",
        "import torch.nn as nn\n",
        "import torch.optim as optim\n",
        "import torchvision\n",
        "import torchvision.transforms as transforms\n",
        "from torch.utils.data import DataLoader\n",
        "\n",
        "device = torch.device(\"cuda\" if torch.cuda.is_available() else \"cpu\")\n",
        "\n",
        "# LeNet-5 Model Definition\n",
        "class LeNet5(nn.Module):\n",
        "    def __init__(self):\n",
        "        super(LeNet5, self).__init__()\n",
        "        self.conv1 = nn.Conv2d(1, 6, kernel_size=5, stride=1, padding=2)\n",
        "        self.conv2 = nn.Conv2d(6, 16, kernel_size=5, stride=1)\n",
        "        self.fc1 = nn.Linear(16 * 5 * 5, 120)\n",
        "        self.fc2 = nn.Linear(120, 84)\n",
        "        self.fc3 = nn.Linear(84, 10)\n",
        "\n",
        "    def forward(self, x):\n",
        "        x = torch.relu(self.conv1(x))\n",
        "        x = torch.max_pool2d(x, kernel_size=2, stride=2)\n",
        "        x = torch.relu(self.conv2(x))\n",
        "        x = torch.max_pool2d(x, kernel_size=2, stride=2)\n",
        "        x = x.view(-1, 16 * 5 * 5)\n",
        "        x = torch.relu(self.fc1(x))\n",
        "        x = torch.relu(self.fc2(x))\n",
        "        x = self.fc3(x)\n",
        "        return x\n",
        "\n",
        "# Data Preparation\n",
        "transform = transforms.Compose([\n",
        "    transforms.ToTensor(),\n",
        "    transforms.Normalize((0.5,), (0.5,))\n",
        "])\n",
        "\n",
        "train_dataset = torchvision.datasets.MNIST(root='./data', train=True, download=True, transform=transform)\n",
        "test_dataset = torchvision.datasets.MNIST(root='./data', train=False, download=True, transform=transform)\n",
        "\n",
        "train_loader = DataLoader(train_dataset, batch_size=64, shuffle=True)\n",
        "test_loader = DataLoader(test_dataset, batch_size=1000, shuffle=False)\n",
        "\n",
        "# Model, Loss, and Optimizer\n",
        "model = LeNet5().to(device)\n",
        "criterion = nn.CrossEntropyLoss()\n",
        "optimizer = optim.SGD(model.parameters(), lr=0.01, momentum=0.9)\n",
        "\n",
        "# Training Loop\n",
        "num_epochs = 10\n",
        "for epoch in range(num_epochs):\n",
        "    model.train()\n",
        "    running_loss = 0.0\n",
        "    correct = 0\n",
        "    total = 0\n",
        "\n",
        "    for images, labels in train_loader:\n",
        "        images, labels = images.to(device), labels.to(device)\n",
        "\n",
        "        # Forward pass\n",
        "        outputs = model(images)\n",
        "        loss = criterion(outputs, labels)\n",
        "\n",
        "        # Backward pass and optimization\n",
        "        optimizer.zero_grad()\n",
        "        loss.backward()\n",
        "        optimizer.step()\n",
        "\n",
        "        running_loss += loss.item()\n",
        "        _, predicted = torch.max(outputs, 1)\n",
        "        total += labels.size(0)\n",
        "        correct += (predicted == labels).sum().item()\n",
        "\n",
        "    train_accuracy = 100 * correct / total\n",
        "    print(f'Epoch [{epoch + 1}/{num_epochs}], Loss: {running_loss / len(train_loader):.4f}, Training Accuracy: {train_accuracy:.2f}%')\n",
        "\n",
        "# Test the Model\n",
        "def test():\n",
        "    model.eval()\n",
        "    correct = 0\n",
        "    total = 0\n",
        "    with torch.no_grad():\n",
        "        for images, labels in test_loader:\n",
        "            images, labels = images.to(device), labels.to(device)\n",
        "            outputs = model(images)\n",
        "            _, predicted = torch.max(outputs, 1)\n",
        "            total += labels.size(0)\n",
        "            correct += (predicted == labels).sum().item()\n",
        "\n",
        "    test_accuracy = 100 * correct / total\n",
        "    print(f'Test Accuracy: {test_accuracy:.2f}%')\n",
        "\n",
        "test()\n"
      ],
      "metadata": {
        "id": "ML-PMfoFrYdU",
        "outputId": "e4d5eb08-1db8-4efd-bc14-1bf8d810ec25",
        "colab": {
          "base_uri": "https://localhost:8080/"
        }
      },
      "execution_count": null,
      "outputs": [
        {
          "output_type": "stream",
          "name": "stdout",
          "text": [
            "Downloading http://yann.lecun.com/exdb/mnist/train-images-idx3-ubyte.gz\n",
            "Failed to download (trying next):\n",
            "<urlopen error [SSL: CERTIFICATE_VERIFY_FAILED] certificate verify failed: certificate has expired (_ssl.c:1007)>\n",
            "\n",
            "Downloading https://ossci-datasets.s3.amazonaws.com/mnist/train-images-idx3-ubyte.gz\n",
            "Downloading https://ossci-datasets.s3.amazonaws.com/mnist/train-images-idx3-ubyte.gz to ./data/MNIST/raw/train-images-idx3-ubyte.gz\n"
          ]
        },
        {
          "output_type": "stream",
          "name": "stderr",
          "text": [
            "100%|██████████| 9.91M/9.91M [00:00<00:00, 56.9MB/s]\n"
          ]
        },
        {
          "output_type": "stream",
          "name": "stdout",
          "text": [
            "Extracting ./data/MNIST/raw/train-images-idx3-ubyte.gz to ./data/MNIST/raw\n",
            "\n",
            "Downloading http://yann.lecun.com/exdb/mnist/train-labels-idx1-ubyte.gz\n",
            "Failed to download (trying next):\n",
            "<urlopen error [SSL: CERTIFICATE_VERIFY_FAILED] certificate verify failed: certificate has expired (_ssl.c:1007)>\n",
            "\n",
            "Downloading https://ossci-datasets.s3.amazonaws.com/mnist/train-labels-idx1-ubyte.gz\n",
            "Downloading https://ossci-datasets.s3.amazonaws.com/mnist/train-labels-idx1-ubyte.gz to ./data/MNIST/raw/train-labels-idx1-ubyte.gz\n"
          ]
        },
        {
          "output_type": "stream",
          "name": "stderr",
          "text": [
            "100%|██████████| 28.9k/28.9k [00:00<00:00, 1.94MB/s]\n"
          ]
        },
        {
          "output_type": "stream",
          "name": "stdout",
          "text": [
            "Extracting ./data/MNIST/raw/train-labels-idx1-ubyte.gz to ./data/MNIST/raw\n",
            "\n",
            "Downloading http://yann.lecun.com/exdb/mnist/t10k-images-idx3-ubyte.gz\n",
            "Failed to download (trying next):\n",
            "<urlopen error [SSL: CERTIFICATE_VERIFY_FAILED] certificate verify failed: certificate has expired (_ssl.c:1007)>\n",
            "\n",
            "Downloading https://ossci-datasets.s3.amazonaws.com/mnist/t10k-images-idx3-ubyte.gz\n",
            "Downloading https://ossci-datasets.s3.amazonaws.com/mnist/t10k-images-idx3-ubyte.gz to ./data/MNIST/raw/t10k-images-idx3-ubyte.gz\n"
          ]
        },
        {
          "output_type": "stream",
          "name": "stderr",
          "text": [
            "100%|██████████| 1.65M/1.65M [00:00<00:00, 13.7MB/s]\n"
          ]
        },
        {
          "output_type": "stream",
          "name": "stdout",
          "text": [
            "Extracting ./data/MNIST/raw/t10k-images-idx3-ubyte.gz to ./data/MNIST/raw\n",
            "\n",
            "Downloading http://yann.lecun.com/exdb/mnist/t10k-labels-idx1-ubyte.gz\n",
            "Failed to download (trying next):\n",
            "<urlopen error [SSL: CERTIFICATE_VERIFY_FAILED] certificate verify failed: certificate has expired (_ssl.c:1007)>\n",
            "\n",
            "Downloading https://ossci-datasets.s3.amazonaws.com/mnist/t10k-labels-idx1-ubyte.gz\n",
            "Downloading https://ossci-datasets.s3.amazonaws.com/mnist/t10k-labels-idx1-ubyte.gz to ./data/MNIST/raw/t10k-labels-idx1-ubyte.gz\n"
          ]
        },
        {
          "output_type": "stream",
          "name": "stderr",
          "text": [
            "100%|██████████| 4.54k/4.54k [00:00<00:00, 3.58MB/s]\n"
          ]
        },
        {
          "output_type": "stream",
          "name": "stdout",
          "text": [
            "Extracting ./data/MNIST/raw/t10k-labels-idx1-ubyte.gz to ./data/MNIST/raw\n",
            "\n",
            "Epoch [1/10], Loss: 0.3863, Training Accuracy: 87.82%\n",
            "Epoch [2/10], Loss: 0.0669, Training Accuracy: 97.96%\n",
            "Epoch [3/10], Loss: 0.0463, Training Accuracy: 98.58%\n",
            "Epoch [4/10], Loss: 0.0360, Training Accuracy: 98.89%\n",
            "Epoch [5/10], Loss: 0.0299, Training Accuracy: 99.05%\n",
            "Epoch [6/10], Loss: 0.0252, Training Accuracy: 99.19%\n",
            "Epoch [7/10], Loss: 0.0206, Training Accuracy: 99.33%\n",
            "Epoch [8/10], Loss: 0.0187, Training Accuracy: 99.38%\n",
            "Epoch [9/10], Loss: 0.0152, Training Accuracy: 99.49%\n",
            "Epoch [10/10], Loss: 0.0132, Training Accuracy: 99.58%\n",
            "Test Accuracy: 98.98%\n"
          ]
        }
      ]
    },
    {
      "cell_type": "markdown",
      "source": [
        "# Dense layer network with manually computed forward path and backpropagations for CIFAR10 dataset"
      ],
      "metadata": {
        "id": "AoaUJaxtg7xF"
      }
    },
    {
      "cell_type": "code",
      "source": [
        "import torch\n",
        "import torch.nn as nn\n",
        "import torch.optim as optim\n",
        "import torchvision\n",
        "import torchvision.transforms as transforms\n",
        "import matplotlib.pyplot as plt\n",
        "\n",
        "# 1. Dataloading\n",
        "transform = transforms.Compose([\n",
        "    transforms.ToTensor(),\n",
        "    transforms.Normalize((0.5, 0.5, 0.5), (0.5, 0.5, 0.5))\n",
        "])\n",
        "\n",
        "batch_size = 50\n",
        "trainset = torchvision.datasets.CIFAR10(root='./data', train=True,\n",
        "                                         download=True, transform=transform)\n",
        "trainloader = torch.utils.data.DataLoader(trainset, batch_size=batch_size,\n",
        "                                          shuffle=True, num_workers=2)\n",
        "testset = torchvision.datasets.CIFAR10(root='./data', train=False,\n",
        "                                        download=True, transform=transform)\n",
        "testloader = torch.utils.data.DataLoader(testset, batch_size=batch_size,\n",
        "                                         shuffle=False, num_workers=2)\n",
        "\n",
        "classes = ('plane', 'car', 'bird', 'cat',\n",
        "           'deer', 'dog', 'frog', 'horse', 'ship', 'truck')\n",
        "\n",
        "# 2. Define Network Parameters\n",
        "Din = 3 * 32 * 32  # Input size (flattened CIFAR10 image size)\n",
        "H = 100  # Number of nodes in the hidden layer\n",
        "K = 10  # Output size (number of classes in CIFAR10)\n",
        "std = 1e-5\n",
        "\n",
        "# Initialize weights and biases\n",
        "w1 = torch.randn(Din, H) * std\n",
        "b1 = torch.zeros(H)\n",
        "w2 = torch.randn(H, K) * std\n",
        "b2 = torch.zeros(K)\n",
        "\n",
        "# Hyperparameters\n",
        "iterations = 10\n",
        "lr = 1e-3  # Learning rate\n",
        "lr_decay = 0.9  # Learning rate decay\n",
        "reg = 0  # Regularization\n",
        "loss_history = []\n",
        "\n",
        "# Cross-Entropy Loss Function\n",
        "def cross_entropy_loss(y_pred, y_true):\n",
        "    return -torch.sum(y_true * torch.log(y_pred + 1e-9)) / y_true.shape[0]\n",
        "\n",
        "# Sigmoid Activation Function\n",
        "def sigmoid(x):\n",
        "    return 1 / (1 + torch.exp(-x))\n",
        "\n",
        "# 3. Training Loop\n",
        "for t in range(iterations):\n",
        "    running_loss = 0.0\n",
        "    correct = 0\n",
        "    total = 0\n",
        "\n",
        "    for i, data in enumerate(trainloader, 0):\n",
        "        # Get inputs and labels\n",
        "        inputs, labels = data\n",
        "        Ntr = inputs.shape[0]  # Batch size\n",
        "        x_train = inputs.view(Ntr, -1)  # Flatten input to (Ntr, Din)\n",
        "        y_train_onehot = nn.functional.one_hot(labels, K).float()\n",
        "\n",
        "        # Forward pass - Hidden Layer\n",
        "        hidden_output = sigmoid(x_train.mm(w1) + b1)\n",
        "        # Forward pass - Output Layer\n",
        "        y_pred = torch.softmax(hidden_output.mm(w2) + b2, dim=1)\n",
        "\n",
        "        # Loss calculation (Cross-Entropy Loss with regularization)\n",
        "        loss = cross_entropy_loss(y_pred, y_train_onehot) + reg * (torch.sum(w1 ** 2) + torch.sum(w2 ** 2))\n",
        "        loss_history.append(loss.item())\n",
        "        running_loss += loss.item()\n",
        "\n",
        "        # Backpropagation\n",
        "        dy_pred = y_pred - y_train_onehot\n",
        "        dw2 = hidden_output.t().mm(dy_pred) + reg * w2\n",
        "        db2 = dy_pred.sum(dim=0)\n",
        "        dhidden = dy_pred.mm(w2.t()) * hidden_output * (1 - hidden_output)\n",
        "        dw1 = x_train.t().mm(dhidden) + reg * w1\n",
        "        db1 = dhidden.sum(dim=0)\n",
        "\n",
        "        # Parameter update\n",
        "        w1 -= lr * dw1\n",
        "        b1 -= lr * db1\n",
        "        w2 -= lr * dw2\n",
        "        b2 -= lr * db2\n",
        "\n",
        "        # Calculate accuracy\n",
        "        _, predicted = torch.max(y_pred, 1)\n",
        "        total += labels.size(0)\n",
        "        correct += (predicted == labels).sum().item()\n",
        "\n",
        "    train_accuracy = 100 * correct / total\n",
        "    print(f'Epoch [{t + 1}/{iterations}], Loss: {running_loss / len(trainloader):.4f}, Training Accuracy: {train_accuracy:.2f}%')\n",
        "\n",
        "    # Learning rate decay\n",
        "    lr *= lr_decay\n",
        "\n",
        "# 4. Plotting the Loss History\n",
        "plt.plot(loss_history)\n",
        "plt.title(\"Loss History\")\n",
        "plt.xlabel(\"Iteration\")\n",
        "plt.ylabel(\"Loss\")\n",
        "plt.show()\n",
        "\n",
        "# 5. Calculate Accuracy on Training Set\n",
        "correct_train = 0\n",
        "total_train = 0\n",
        "with torch.no_grad():\n",
        "    for data in trainloader:\n",
        "        inputs, labels = data\n",
        "        Ntr = inputs.shape[0]\n",
        "        x_train = inputs.view(Ntr, -1)\n",
        "\n",
        "        # Forward pass\n",
        "        hidden_output = sigmoid(x_train.mm(w1) + b1)\n",
        "        y_train_pred = torch.softmax(hidden_output.mm(w2) + b2, dim=1)\n",
        "        predicted_train = torch.argmax(y_train_pred, dim=1)\n",
        "        total_train += labels.size(0)\n",
        "        correct_train += (predicted_train == labels).sum().item()\n",
        "\n",
        "train_acc = 100 * correct_train / total_train\n",
        "print(f\"Training accuracy: {train_acc:.2f}%\")\n",
        "\n",
        "# 6. Calculate Accuracy on Test Set\n",
        "correct_test = 0\n",
        "total_test = 0\n",
        "with torch.no_grad():\n",
        "    for data in testloader:\n",
        "        inputs, labels = data\n",
        "        Nte = inputs.shape[0]\n",
        "        x_test = inputs.view(Nte, -1)\n",
        "\n",
        "        # Forward pass\n",
        "        hidden_output = sigmoid(x_test.mm(w1) + b1)\n",
        "        y_test_pred = torch.softmax(hidden_output.mm(w2) + b2, dim=1)\n",
        "        predicted_test = torch.argmax(y_test_pred, dim=1)\n",
        "        total_test += labels.size(0)\n",
        "        correct_test += (predicted_test == labels).sum().item()\n",
        "\n",
        "test_acc = 100 * correct_test / total_test\n",
        "print(f\"Test accuracy: {test_acc:.2f}%\")\n"
      ],
      "metadata": {
        "colab": {
          "base_uri": "https://localhost:8080/",
          "height": 750
        },
        "id": "em-i595HfcVk",
        "outputId": "796a5ea2-87f0-4c41-efb7-d4948cf1d0bd"
      },
      "execution_count": null,
      "outputs": [
        {
          "output_type": "stream",
          "name": "stdout",
          "text": [
            "Downloading https://www.cs.toronto.edu/~kriz/cifar-10-python.tar.gz to ./data/cifar-10-python.tar.gz\n"
          ]
        },
        {
          "output_type": "stream",
          "name": "stderr",
          "text": [
            "100%|██████████| 170M/170M [00:02<00:00, 76.5MB/s]\n"
          ]
        },
        {
          "output_type": "stream",
          "name": "stdout",
          "text": [
            "Extracting ./data/cifar-10-python.tar.gz to ./data\n",
            "Files already downloaded and verified\n",
            "Epoch [1/10], Loss: 2.1580, Training Accuracy: 17.10%\n",
            "Epoch [2/10], Loss: 1.9015, Training Accuracy: 31.00%\n",
            "Epoch [3/10], Loss: 1.8062, Training Accuracy: 35.70%\n",
            "Epoch [4/10], Loss: 1.7485, Training Accuracy: 38.22%\n",
            "Epoch [5/10], Loss: 1.7104, Training Accuracy: 39.89%\n",
            "Epoch [6/10], Loss: 1.6826, Training Accuracy: 40.97%\n",
            "Epoch [7/10], Loss: 1.6602, Training Accuracy: 42.06%\n",
            "Epoch [8/10], Loss: 1.6402, Training Accuracy: 42.94%\n",
            "Epoch [9/10], Loss: 1.6239, Training Accuracy: 43.70%\n",
            "Epoch [10/10], Loss: 1.6096, Training Accuracy: 44.05%\n"
          ]
        },
        {
          "output_type": "display_data",
          "data": {
            "text/plain": [
              "<Figure size 640x480 with 1 Axes>"
            ],
            "image/png": "[encoded data removed]"
          },
          "metadata": {}
        },
        {
          "output_type": "stream",
          "name": "stdout",
          "text": [
            "Training accuracy: 44.68%\n",
            "Test accuracy: 43.52%\n"
          ]
        }
      ]
    },
    {
      "cell_type": "markdown",
      "source": [
        "# Transfer learning a pre-trained ResNet18 network trained on ImageNet1K to classify hymenoptera dataset."
      ],
      "metadata": {
        "id": "-ZSTSv3SiBT2"
      }
    },
    {
      "cell_type": "code",
      "source": [
        "import torch\n",
        "import torch.nn as nn\n",
        "import torch.optim as optim\n",
        "import torchvision\n",
        "import torchvision.transforms as transforms\n",
        "import torchvision.datasets as datasets\n",
        "import torchvision.models as models\n",
        "from torch.utils.data import DataLoader\n",
        "import matplotlib.pyplot as plt\n",
        "import os\n",
        "import zipfile\n",
        "import urllib.request\n",
        "\n",
        "# Device configuration\n",
        "device = torch.device(\"cuda\" if torch.cuda.is_available() else \"cpu\")\n",
        "\n",
        "# 1. Data Preparation\n",
        "# Download and extract the dataset in Google Colab\n",
        "url = \"https://download.pytorch.org/tutorial/hymenoptera_data.zip\"\n",
        "data_dir = \"./hymenoptera_data\"\n",
        "\n",
        "if not os.path.exists(data_dir):\n",
        "    urllib.request.urlretrieve(url, \"hymenoptera_data.zip\")\n",
        "    with zipfile.ZipFile(\"hymenoptera_data.zip\", 'r') as zip_ref:\n",
        "        zip_ref.extractall(\".\")\n",
        "\n",
        "transform = transforms.Compose([\n",
        "    transforms.Resize(256),\n",
        "    transforms.CenterCrop(224),\n",
        "    transforms.ToTensor(),\n",
        "    transforms.Normalize([0.485, 0.456, 0.406], [0.229, 0.224, 0.225])\n",
        "])\n",
        "\n",
        "train_dataset = datasets.ImageFolder(root=f'{data_dir}/train', transform=transform)\n",
        "test_dataset = datasets.ImageFolder(root=f'{data_dir}/val', transform=transform)\n",
        "\n",
        "train_loader = DataLoader(train_dataset, batch_size=16, shuffle=True, num_workers=4)\n",
        "test_loader = DataLoader(test_dataset, batch_size=16, shuffle=False, num_workers=4)\n",
        "\n",
        "# 2. Load Pre-trained ResNet18\n",
        "resnet18 = models.resnet18(pretrained=True)\n",
        "\n",
        "# (a) Fine-Tuning\n",
        "# Modify the final layer for classification of 2 classes (ants and bees)\n",
        "num_features = resnet18.fc.in_features\n",
        "resnet18.fc = nn.Linear(num_features, 2)\n",
        "resnet18 = resnet18.to(device)\n",
        "\n",
        "# Loss and Optimizer\n",
        "criterion = nn.CrossEntropyLoss()\n",
        "optimizer = optim.SGD(resnet18.parameters(), lr=0.001, momentum=0.9)\n",
        "\n",
        "# Training the Model (Fine-Tuning)\n",
        "num_epochs = 10\n",
        "resnet18.train()\n",
        "for epoch in range(num_epochs):\n",
        "    running_loss = 0.0\n",
        "    correct = 0\n",
        "    total = 0\n",
        "    for inputs, labels in train_loader:\n",
        "        inputs, labels = inputs.to(device), labels.to(device)\n",
        "\n",
        "        # Forward pass\n",
        "        outputs = resnet18(inputs)\n",
        "        loss = criterion(outputs, labels)\n",
        "\n",
        "        # Backward pass and optimization\n",
        "        optimizer.zero_grad()\n",
        "        loss.backward()\n",
        "        optimizer.step()\n",
        "\n",
        "        running_loss += loss.item()\n",
        "        _, predicted = torch.max(outputs, 1)\n",
        "        total += labels.size(0)\n",
        "        correct += (predicted == labels).sum().item()\n",
        "\n",
        "    train_accuracy = 100 * correct / total\n",
        "    print(f'Epoch [{epoch + 1}/{num_epochs}], Loss: {running_loss / len(train_loader):.4f}, Training Accuracy: {train_accuracy:.2f}%')\n",
        "\n",
        "# Testing the Model (Fine-Tuning)\n",
        "resnet18.eval()\n",
        "correct_test = 0\n",
        "total_test = 0\n",
        "with torch.no_grad():\n",
        "    for inputs, labels in test_loader:\n",
        "        inputs, labels = inputs.to(device), labels.to(device)\n",
        "        outputs = resnet18(inputs)\n",
        "        _, predicted = torch.max(outputs, 1)\n",
        "        total_test += labels.size(0)\n",
        "        correct_test += (predicted == labels).sum().item()\n",
        "\n",
        "test_accuracy = 100 * correct_test / total_test\n",
        "print(f'Fine-Tuning Test Accuracy: {test_accuracy:.2f}%')\n",
        "\n",
        "# (b) Feature Extraction\n",
        "resnet18 = models.resnet18(pretrained=True)\n",
        "for param in resnet18.parameters():\n",
        "    param.requires_grad = False\n",
        "\n",
        "# Modify the final layer for classification of 2 classes\n",
        "num_features = resnet18.fc.in_features\n",
        "resnet18.fc = nn.Linear(num_features, 2)\n",
        "resnet18 = resnet18.to(device)\n",
        "\n",
        "# Only train the final layer\n",
        "optimizer = optim.SGD(resnet18.fc.parameters(), lr=0.001, momentum=0.9)\n",
        "\n",
        "# Training the Model (Feature Extraction)\n",
        "resnet18.train()\n",
        "for epoch in range(num_epochs):\n",
        "    running_loss = 0.0\n",
        "    correct = 0\n",
        "    total = 0\n",
        "    for inputs, labels in train_loader:\n",
        "        inputs, labels = inputs.to(device), labels.to(device)\n",
        "\n",
        "        # Forward pass\n",
        "        outputs = resnet18(inputs)\n",
        "        loss = criterion(outputs, labels)\n",
        "\n",
        "        # Backward pass and optimization\n",
        "        optimizer.zero_grad()\n",
        "        loss.backward()\n",
        "        optimizer.step()\n",
        "\n",
        "        running_loss += loss.item()\n",
        "        _, predicted = torch.max(outputs, 1)\n",
        "        total += labels.size(0)\n",
        "        correct += (predicted == labels).sum().item()\n",
        "\n",
        "    train_accuracy = 100 * correct / total\n",
        "    print(f'Epoch [{epoch + 1}/{num_epochs}], Loss: {running_loss / len(train_loader):.4f}, Training Accuracy: {train_accuracy:.2f}%')\n",
        "\n",
        "# Testing the Model (Feature Extraction)\n",
        "resnet18.eval()\n",
        "correct_test = 0\n",
        "total_test = 0\n",
        "with torch.no_grad():\n",
        "    for inputs, labels in test_loader:\n",
        "        inputs, labels = inputs.to(device), labels.to(device)\n",
        "        outputs = resnet18(inputs)\n",
        "        _, predicted = torch.max(outputs, 1)\n",
        "        total_test += labels.size(0)\n",
        "        correct_test += (predicted == labels).sum().item()\n",
        "\n",
        "test_accuracy = 100 * correct_test / total_test\n",
        "print(f'Feature Extraction Test Accuracy: {test_accuracy:.2f}%')\n"
      ],
      "metadata": {
        "colab": {
          "base_uri": "https://localhost:8080/"
        },
        "id": "ZSL1B784gCLe",
        "outputId": "593e6af9-8ba1-441a-fb19-870cd157ff1c"
      },
      "execution_count": null,
      "outputs": [
        {
          "output_type": "stream",
          "name": "stdout",
          "text": [
            "Epoch [1/10], Loss: 0.5196, Training Accuracy: 70.90%\n",
            "Epoch [2/10], Loss: 0.1708, Training Accuracy: 96.72%\n",
            "Epoch [3/10], Loss: 0.1734, Training Accuracy: 96.31%\n",
            "Epoch [4/10], Loss: 0.1354, Training Accuracy: 95.08%\n",
            "Epoch [5/10], Loss: 0.0665, Training Accuracy: 98.36%\n",
            "Epoch [6/10], Loss: 0.0634, Training Accuracy: 97.95%\n",
            "Epoch [7/10], Loss: 0.0158, Training Accuracy: 100.00%\n",
            "Epoch [8/10], Loss: 0.0423, Training Accuracy: 98.77%\n",
            "Epoch [9/10], Loss: 0.0252, Training Accuracy: 99.59%\n",
            "Epoch [10/10], Loss: 0.0178, Training Accuracy: 100.00%\n",
            "Fine-Tuning Test Accuracy: 94.12%\n",
            "Epoch [1/10], Loss: 0.6411, Training Accuracy: 63.52%\n",
            "Epoch [2/10], Loss: 0.3607, Training Accuracy: 86.48%\n",
            "Epoch [3/10], Loss: 0.2549, Training Accuracy: 90.57%\n",
            "Epoch [4/10], Loss: 0.3157, Training Accuracy: 83.20%\n",
            "Epoch [5/10], Loss: 0.2718, Training Accuracy: 91.80%\n",
            "Epoch [6/10], Loss: 0.1348, Training Accuracy: 96.72%\n",
            "Epoch [7/10], Loss: 0.1845, Training Accuracy: 94.26%\n",
            "Epoch [8/10], Loss: 0.1460, Training Accuracy: 95.90%\n",
            "Epoch [9/10], Loss: 0.1996, Training Accuracy: 91.80%\n",
            "Epoch [10/10], Loss: 0.1546, Training Accuracy: 94.67%\n",
            "Feature Extraction Test Accuracy: 92.81%\n"
          ]
        }
      ]
    }
  ]
}