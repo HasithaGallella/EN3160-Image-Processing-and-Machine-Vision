{
  "nbformat": 4,
  "nbformat_minor": 0,
  "metadata": {
    "colab": {
      "provenance": [],
      "toc_visible": true,
      "authorship_tag": "ABX9TyMgXK3Tcp2XMwvU1hx/T18r",
      "include_colab_link": true
    },
    "kernelspec": {
      "name": "python3",
      "display_name": "Python 3"
    },
    "language_info": {
      "name": "python"
    }
  },
  "cells": [
    {
      "cell_type": "markdown",
      "metadata": {
        "id": "view-in-github",
        "colab_type": "text"
      },
      "source": [
        "<a href=\"https://colab.research.google.com/github/HasithaGallella/EN3160-Image-Processing-and-Machine-Vision/blob/main/Assignments/EN3160_210174X_A03.ipynb\" target=\"_parent\"><img src=\"https://colab.research.google.com/assets/colab-badge.svg\" alt=\"Open In Colab\"/></a>"
      ]
    },
    {
      "cell_type": "markdown",
      "source": [
        "**EN3160 Assignment 03:** Neural Networks\n",
        "\n",
        "- Name: M.M.H.H.B Gallella\n",
        "- Index No.: 210174X\n",
        "- Submission Date: 14th November 2024\n",
        "- GitHub: [https://github.com/HasithaGallella](https://github.com/HasithaGallella)\n",
        "- Assignment Codes on: [Google Colab](https://colab.research.google.com/drive/1ZJZJ3tKyZb-z723Q6nkNKsan-WjYtS1B?usp=sharing)"
      ],
      "metadata": {
        "id": "1LYvUBP70FXC"
      }
    },
    {
      "cell_type": "markdown",
      "source": [
        "# Check CUDA setup"
      ],
      "metadata": {
        "id": "dwc9hkOan3GM"
      }
    },
    {
      "cell_type": "code",
      "execution_count": null,
      "metadata": {
        "id": "XHJB6wjbnzwf",
        "outputId": "4a143b00-1f62-40f4-f4a1-7286b019b6a9"
      },
      "outputs": [
        {
          "name": "stdout",
          "output_type": "stream",
          "text": [
            "1\n",
            "NVIDIA GeForce RTX 2060\n"
          ]
        }
      ],
      "source": [
        "import torch\n",
        "print(torch.cuda.device_count())\n",
        "print(torch.cuda.get_device_name(0))"
      ]
    },
    {
      "cell_type": "code",
      "execution_count": null,
      "metadata": {
        "id": "qgX8dp9SlnV3",
        "outputId": "13d1cf25-baa2-430f-dab3-d4625a419262"
      },
      "outputs": [
        {
          "name": "stdout",
          "output_type": "stream",
          "text": [
            "[PhysicalDevice(name='/physical_device:GPU:0', device_type='GPU')]\n"
          ]
        }
      ],
      "source": [
        "import tensorflow as tf\n",
        "print(tf.config.list_physical_devices('GPU'))"
      ]
    },
    {
      "cell_type": "markdown",
      "source": [
        "# 1] Dense layer network with manually computed forward path and backpropagations for CIFAR10 dataset"
      ],
      "metadata": {
        "id": "AoaUJaxtg7xF"
      }
    },
    {
      "cell_type": "code",
      "source": [
        "import torch\n",
        "import torch.nn as nn  # Import neural network module\n",
        "import torch.optim as optim  # Import optimization algorithms\n",
        "import torchvision  # Import torchvision for datasets and image manipulation\n",
        "import torchvision.transforms as transforms  # Import image transformation utilities\n",
        "import matplotlib.pyplot as plt  # Import for plotting graphs"
      ],
      "metadata": {
        "id": "iKgO04ZLerGE"
      },
      "execution_count": null,
      "outputs": []
    },
    {
      "cell_type": "code",
      "source": [
        "# 1. Dataloading\n",
        "transform = transforms.Compose([  # Define a sequence of image transformations\n",
        "    transforms.ToTensor(),  # Convert images to PyTorch tensors\n",
        "    transforms.Normalize((0.5, 0.5, 0.5), (0.5, 0.5, 0.5))  # Normalize images with mean and standard deviation\n",
        "])\n",
        "\n",
        "batch_size = 50  # Define batch size for loading data\n",
        "trainset = torchvision.datasets.CIFAR10(root='./data', train=True,  # Load CIFAR-10 training dataset\n",
        "                                         download=True, transform=transform)\n",
        "trainloader = torch.utils.data.DataLoader(trainset, batch_size=batch_size,  # Create DataLoader for training set\n",
        "                                          shuffle=True, num_workers=2)\n",
        "testset = torchvision.datasets.CIFAR10(root='./data', train=False,  # Load CIFAR-10 test dataset\n",
        "                                        download=True, transform=transform)\n",
        "testloader = torch.utils.data.DataLoader(testset, batch_size=batch_size,  # Create DataLoader for test set\n",
        "                                         shuffle=False, num_workers=2)\n",
        "\n",
        "classes = ('plane', 'car', 'bird', 'cat',  # List of CIFAR-10 class names\n",
        "           'deer', 'dog', 'frog', 'horse', 'ship', 'truck')"
      ],
      "metadata": {
        "colab": {
          "base_uri": "https://localhost:8080/"
        },
        "id": "ZQg0qgQ5es3j",
        "outputId": "e5ffce94-b1aa-47ae-c439-a872e6130b7a"
      },
      "execution_count": null,
      "outputs": [
        {
          "output_type": "stream",
          "name": "stdout",
          "text": [
            "Files already downloaded and verified\n",
            "Files already downloaded and verified\n"
          ]
        }
      ]
    },
    {
      "cell_type": "code",
      "source": [
        "# Get a batch of training data\n",
        "dataiter = iter(trainloader)\n",
        "images, labels = next(dataiter)\n",
        "\n",
        "# Plot the first 5 images, one from each class\n",
        "fig, axes = plt.subplots(1, 5, figsize=(15, 5))\n",
        "found_classes = set()\n",
        "count = 0\n",
        "\n",
        "for i in range(len(labels)):\n",
        "    if labels[i].item() not in found_classes:\n",
        "        # Since images are normalized, unnormalize them for visualization\n",
        "        img = images[i] / 2 + 0.5  # Unnormalize the image\n",
        "        img = img.numpy()\n",
        "        axes[count].imshow(np.transpose(img, (1, 2, 0)))\n",
        "        axes[count].set_title(f'{classes[labels[i]]}')\n",
        "        axes[count].axis('off')\n",
        "        found_classes.add(labels[i].item())\n",
        "        count += 1\n",
        "    if count == 5:\n",
        "        break\n",
        "\n",
        "plt.show()"
      ],
      "metadata": {
        "colab": {
          "base_uri": "https://localhost:8080/",
          "height": 156
        },
        "id": "wS1-35N6p_Fm",
        "outputId": "42c4caa5-b7b6-48ce-c142-c80c54e77ff4"
      },
      "execution_count": null,
      "outputs": [
        {
          "output_type": "display_data",
          "data": {
            "text/plain": [
              "<Figure size 1500x500 with 5 Axes>"
            ],
            "image/png": "[encoded data removed]"
          },
          "metadata": {}
        }
      ]
    },
    {
      "cell_type": "code",
      "source": [
        "# 2. Define Network Parameters\n",
        "Din = 3 * 32 * 32  # Input size (flattened CIFAR10 image size)\n",
        "H = 100  # Number of nodes in the hidden layer\n",
        "K = 10  # Output size (number of classes in CIFAR10)\n",
        "std = 1e-5  # Standard deviation for weight initialization\n",
        "\n",
        "# Initialize weights and biases\n",
        "w1 = torch.randn(Din, H) * std  # Weights for input to hidden layer, initialized randomly\n",
        "b1 = torch.zeros(H)  # Bias for hidden layer, initialized to zero\n",
        "w2 = torch.randn(H, K) * std  # Weights for hidden to output layer, initialized randomly\n",
        "b2 = torch.zeros(K)  # Bias for output layer, initialized to zero\n",
        "\n",
        "# Hyperparameters\n",
        "iterations = 10  # Number of training iterations\n",
        "lr = 1e-3  # Learning rate\n",
        "lr_decay = 0.9  # Learning rate decay factor\n",
        "reg = 0  # Regularization strength\n",
        "loss_history = []  # List to store loss values for plotting\n",
        "\n",
        "# Cross-Entropy Loss Function\n",
        "def cross_entropy_loss(y_pred, y_true):  # Custom cross-entropy loss function\n",
        "    return -torch.sum(y_true * torch.log(y_pred + 1e-9)) / y_true.shape[0]  # Calculate loss\n",
        "\n",
        "# Sigmoid Activation Function\n",
        "def sigmoid(x):  # Define sigmoid activation function\n",
        "    return 1 / (1 + torch.exp(-x))  # Apply sigmoid to input\n",
        "\n",
        "# 3. Training Loop\n",
        "for t in range(iterations):  # Iterate through epochs\n",
        "    running_loss = 0.0  # Initialize running loss for each epoch\n",
        "    correct = 0  # Initialize correct predictions count\n",
        "    total = 0  # Initialize total sample count\n",
        "\n",
        "    for i, data in enumerate(trainloader, 0):  # Loop through training batches\n",
        "        # Get inputs and labels\n",
        "        inputs, labels = data  # Unpack data (inputs and labels)\n",
        "        Ntr = inputs.shape[0]  # Batch size\n",
        "        x_train = inputs.view(Ntr, -1)  # Flatten input to (Ntr, Din)\n",
        "        y_train_onehot = nn.functional.one_hot(labels, K).float()  # Convert labels to one-hot encoding\n",
        "\n",
        "        # Forward pass - Hidden Layer\n",
        "        hidden_output = sigmoid(x_train.mm(w1) + b1)  # Calculate hidden layer output\n",
        "        # Forward pass - Output Layer\n",
        "        y_pred = torch.softmax(hidden_output.mm(w2) + b2, dim=1)  # Calculate output layer predictions\n",
        "\n",
        "        # Loss calculation (Cross-Entropy Loss with regularization)\n",
        "        loss = cross_entropy_loss(y_pred, y_train_onehot) + reg * (torch.sum(w1 ** 2) + torch.sum(w2 ** 2))  # Compute loss\n",
        "        loss_history.append(loss.item())  # Store loss value\n",
        "        running_loss += loss.item()  # Accumulate running loss\n",
        "\n",
        "        # Backpropagation\n",
        "        dy_pred = y_pred - y_train_onehot  # Derivative of loss w.r.t output\n",
        "        dw2 = hidden_output.t().mm(dy_pred) + reg * w2  # Gradient for w2\n",
        "        db2 = dy_pred.sum(dim=0)  # Gradient for b2\n",
        "        dhidden = dy_pred.mm(w2.t()) * hidden_output * (1 - hidden_output)  # Derivative for hidden layer\n",
        "        dw1 = x_train.t().mm(dhidden) + reg * w1  # Gradient for w1\n",
        "        db1 = dhidden.sum(dim=0)  # Gradient for b1\n",
        "\n",
        "        # Parameter update\n",
        "        w1 -= lr * dw1  # Update weights for input to hidden layer\n",
        "        b1 -= lr * db1  # Update bias for hidden layer\n",
        "        w2 -= lr * dw2  # Update weights for hidden to output layer\n",
        "        b2 -= lr * db2  # Update bias for output layer\n",
        "\n",
        "        # Calculate accuracy\n",
        "        _, predicted = torch.max(y_pred, 1)  # Get predicted class index\n",
        "        total += labels.size(0)  # Update total samples\n",
        "        correct += (predicted == labels).sum().item()  # Update correct predictions count\n",
        "\n",
        "    train_accuracy = 100 * correct / total  # Calculate training accuracy\n",
        "    print(f'Epoch [{t + 1}/{iterations}], Loss: {running_loss / len(trainloader):.4f}, Training Accuracy: {train_accuracy:.2f}%')  # Print epoch stats\n",
        "\n",
        "    # Learning rate decay\n",
        "    lr *= lr_decay  # Apply learning rate decay"
      ],
      "metadata": {
        "colab": {
          "base_uri": "https://localhost:8080/"
        },
        "id": "d9qZ-KWLeHRr",
        "outputId": "159142e6-d3a5-4e21-9980-68692cf32cd1"
      },
      "execution_count": null,
      "outputs": [
        {
          "output_type": "stream",
          "name": "stdout",
          "text": [
            "Epoch [1/10], Loss: 2.1591, Training Accuracy: 16.74%\n",
            "Epoch [2/10], Loss: 1.9055, Training Accuracy: 30.71%\n",
            "Epoch [3/10], Loss: 1.8063, Training Accuracy: 35.76%\n",
            "Epoch [4/10], Loss: 1.7478, Training Accuracy: 38.15%\n",
            "Epoch [5/10], Loss: 1.7082, Training Accuracy: 39.92%\n",
            "Epoch [6/10], Loss: 1.6797, Training Accuracy: 41.34%\n",
            "Epoch [7/10], Loss: 1.6568, Training Accuracy: 42.10%\n",
            "Epoch [8/10], Loss: 1.6378, Training Accuracy: 42.92%\n",
            "Epoch [9/10], Loss: 1.6215, Training Accuracy: 43.80%\n",
            "Epoch [10/10], Loss: 1.6069, Training Accuracy: 44.23%\n"
          ]
        }
      ]
    },
    {
      "cell_type": "markdown",
      "source": [
        "This is a simple neural network with one hidden layer, applied to the CIFAR-10 dataset. The architecture and training use the cross-entropy loss function and stochastic gradient descent (SGD) for parameter updates.\n",
        "\n",
        "#### 1. Network Parameters\n",
        "- **Input Size (`Din`)**: The input size is $3 \\times 32 \\times 32 = 3072$, which corresponds to the flattened image from CIFAR-10 (32x32 with 3 color channels).\n",
        "- **Hidden Layer Size (`H`)**: The number of hidden units is 100.\n",
        "- **Output Size (`K`)**: The output size is 10, which corresponds to the 10 classes in CIFAR-10.\n",
        "\n",
        "The weights and biases are initialized as follows:\n",
        "- $W_1 \\in \\mathbb{R}^{3072 \\times 100}$, $b_1 \\in \\mathbb{R}^{100}$ are weights and biases for the input to hidden layer.\n",
        "- $W_2 \\in \\mathbb{R}^{100 \\times 10}$, $b_2 \\in \\mathbb{R}^{10}$ are weights and biases for the hidden to output layer.\n",
        "\n",
        "#### 2. Forward Propagation Equations\n",
        "- **Hidden Layer Computation**:\n",
        "  $$\n",
        "  h = \\sigma(XW_1 + b_1)\n",
        "  $$\n",
        "  Where:\n",
        "  - $X \\in \\mathbb{R}^{N \\times 3072}$ is the batch of input data, where $N$ is the batch size.\n",
        "  - $W_1 \\in \\mathbb{R}^{3072 \\times 100}$ are the weights from input to hidden layer.\n",
        "  - $b_1 \\in \\mathbb{R}^{100}$ is the bias for the hidden layer.\n",
        "  - $\\sigma$ is the sigmoid activation function defined as:\n",
        "    $$\n",
        "    \\sigma(x) = \\frac{1}{1 + e^{-x}}\n",
        "    $$\n",
        "\n",
        "- **Output Layer Computation**:\n",
        "  $$\n",
        "  y_{\\text{pred}} = \\text{softmax}(h W_2 + b_2)\n",
        "  $$\n",
        "  Where:\n",
        "  - $h \\in \\mathbb{R}^{N \\times 100}$ is the output from the hidden layer.\n",
        "  - $W_2 \\in \\mathbb{R}^{100 \\times 10}$ are the weights from hidden to output layer.\n",
        "  - $b_2 \\in \\mathbb{R}^{10}$ is the bias for the output layer.\n",
        "  - **Softmax function** is used to produce a probability distribution over the output classes:\n",
        "    $$\n",
        "    \\text{softmax}(z_j) = \\frac{e^{z_j}}{\\sum_{k=1}^{K} e^{z_k}}\n",
        "    $$\n",
        "    Where $z_j$ is the $j$-th element of the input to softmax, representing the score for class $j$.\n",
        "\n",
        "#### 3. Cross-Entropy Loss\n",
        "The **cross-entropy loss** is used to measure the difference between the predicted output and the true labels:\n",
        "$$\n",
        "\\mathcal{L} = -\\frac{1}{N} \\sum_{i=1}^{N} \\sum_{j=1}^{K} y_{ij} \\log(y_{\\text{pred}, ij})\n",
        "$$\n",
        "Where:\n",
        "- $y_{ij}$ is the true label (one-hot encoded) for the $i$-th sample and class $j$.\n",
        "- $y_{\\text{pred}, ij}$ is the predicted probability for the $i$-th sample and class $j$.\n",
        "\n",
        "#### 4. Backpropagation and Gradients\n",
        "The gradients for backpropagation are calculated as follows:\n",
        "\n",
        "- **Gradient w.r.t. Output Weights $W_2$**:\n",
        "  $$\n",
        "  \\frac{\\partial \\mathcal{L}}{\\partial W_2} = h^T (y_{\\text{pred}} - y)\n",
        "  $$\n",
        "  Where:\n",
        "  - $y_{\\text{pred}} - y$ is the difference between the predicted and true labels.\n",
        "\n",
        "- **Gradient w.r.t. Output Bias $b_2$**:\n",
        "  $$\n",
        "  \\frac{\\partial \\mathcal{L}}{\\partial b_2} = \\sum_{i=1}^{N} (y_{\\text{pred},i} - y_i)\n",
        "  $$\n",
        "\n",
        "- **Gradient w.r.t. Hidden Layer Output**:\n",
        "  $$\n",
        "  \\delta_h = (y_{\\text{pred}} - y) W_2^T \\cdot h \\cdot (1 - h)\n",
        "  $$\n",
        "  Where $\\delta_h$ represents the gradient flowing back to the hidden layer. The term $h \\cdot (1 - h)$ is the derivative of the sigmoid function.\n",
        "\n",
        "- **Gradient w.r.t. Hidden Weights $W_1$**:\n",
        "  $$\n",
        "  \\frac{\\partial \\mathcal{L}}{\\partial W_1} = X^T \\delta_h\n",
        "  $$\n",
        "\n",
        "- **Gradient w.r.t. Hidden Bias $b_1$**:\n",
        "  $$\n",
        "  \\frac{\\partial \\mathcal{L}}{\\partial b_1} = \\sum_{i=1}^{N} \\delta_{h_i}\n",
        "  $$\n",
        "\n",
        "#### 5. Parameter Updates Using Gradient Descent\n",
        "Using **Stochastic Gradient Descent (SGD)**, the weights are updated as follows:\n",
        "\n",
        "- **Update Rule for Weights**:\n",
        "  $$\n",
        "  W_1 = W_1 - \\eta \\frac{\\partial \\mathcal{L}}{\\partial W_1}\n",
        "  $$\n",
        "  $$\n",
        "  W_2 = W_2 - \\eta \\frac{\\partial \\mathcal{L}}{\\partial W_2}\n",
        "  $$\n",
        "  Where $\\eta$ is the learning rate.\n",
        "\n",
        "- **Update Rule for Biases**:\n",
        "  $$\n",
        "  b_1 = b_1 - \\eta \\frac{\\partial \\mathcal{L}}{\\partial b_1}\n",
        "  $$\n",
        "  $$\n",
        "  b_2 = b_2 - \\eta \\frac{\\partial \\mathcal{L}}{\\partial b_2}\n",
        "  $$\n",
        "\n",
        "These equations reflect the application of backpropagation and gradient descent to update the weights and biases in the network based on the cross-entropy loss function.\n",
        "\n",
        "### Main code blocks;\n",
        "- **Forward Pass**: Computes the output of the network using sigmoid activation in the hidden layer and softmax in the output layer.\n",
        "- **Loss Calculation**: Uses cross-entropy loss to measure the error between predictions and true labels.\n",
        "- **Backpropagation**: Computes the gradients for each weight and bias.\n",
        "- **Parameter Update**: Applies SGD to update weights and biases based on computed gradients, following the equations shown in the image.\n"
      ],
      "metadata": {
        "id": "RFL6A4Pevvy_"
      }
    },
    {
      "cell_type": "code",
      "source": [
        "# 4. Plotting the Loss History\n",
        "plt.plot(loss_history)  # Plot loss over iterations\n",
        "plt.title(\"Loss History\")  # Plot title\n",
        "plt.xlabel(\"Iteration\")  # X-axis label\n",
        "plt.ylabel(\"Loss\")  # Y-axis label\n",
        "plt.show()  # Display plot"
      ],
      "metadata": {
        "colab": {
          "base_uri": "https://localhost:8080/",
          "height": 472
        },
        "id": "PrphdlCFeT6z",
        "outputId": "44c5d662-405e-45ee-cf27-e519fe8f5f65"
      },
      "execution_count": null,
      "outputs": [
        {
          "output_type": "display_data",
          "data": {
            "text/plain": [
              "<Figure size 640x480 with 1 Axes>"
            ],
            "image/png": "[encoded data removed]"
          },
          "metadata": {}
        }
      ]
    },
    {
      "cell_type": "code",
      "source": [
        "# 4. Plotting the Loss History\n",
        "plt.plot(loss_history, label='Loss History')  # Plot loss over iterations\n",
        "smoothed_loss = np.convolve(loss_history, np.ones(100)/100, mode='valid')  # Calculate smoothed loss using moving average\n",
        "plt.plot(smoothed_loss, color='r', linewidth=2, label='Avg Loss for each SGD iteration')  # Plot the smoothed loss as a red line\n",
        "plt.title(\"Loss History\")  # Plot title\n",
        "plt.xlabel(\"Iteration\")  # X-axis label\n",
        "plt.ylabel(\"Loss\")  # Y-axis label\n",
        "plt.legend()  # Display legend\n",
        "plt.show()  # Display plot"
      ],
      "metadata": {
        "colab": {
          "base_uri": "https://localhost:8080/",
          "height": 472
        },
        "id": "Y-4RvIHWsC4z",
        "outputId": "e01be034-42b7-4dc8-915f-681532e75b52"
      },
      "execution_count": null,
      "outputs": [
        {
          "output_type": "display_data",
          "data": {
            "text/plain": [
              "<Figure size 640x480 with 1 Axes>"
            ],
            "image/png": "[encoded data removed]"
          },
          "metadata": {}
        }
      ]
    },
    {
      "cell_type": "code",
      "source": [
        "# 5. Calculate Accuracy on Training Set\n",
        "correct_train = 0  # Initialize correct count for training set\n",
        "total_train = 0  # Initialize total sample count for training set\n",
        "with torch.no_grad():  # Disable gradient computation\n",
        "    for data in trainloader:  # Loop through training data\n",
        "        inputs, labels = data  # Unpack data\n",
        "        Ntr = inputs.shape[0]  # Batch size\n",
        "        x_train = inputs.view(Ntr, -1)  # Flatten input\n",
        "\n",
        "        # Forward pass\n",
        "        hidden_output = sigmoid(x_train.mm(w1) + b1)  # Calculate hidden layer output\n",
        "        y_train_pred = torch.softmax(hidden_output.mm(w2) + b2, dim=1)  # Calculate output layer predictions\n",
        "        predicted_train = torch.argmax(y_train_pred, dim=1)  # Get predicted class\n",
        "        total_train += labels.size(0)  # Update total count\n",
        "        correct_train += (predicted_train == labels).sum().item()  # Update correct count\n",
        "\n",
        "train_acc = 100 * correct_train / total_train  # Calculate training accuracy\n",
        "print(f\"Training accuracy: {train_acc:.2f}%\")  # Print training accuracy"
      ],
      "metadata": {
        "colab": {
          "base_uri": "https://localhost:8080/"
        },
        "id": "umW35vhfeSDE",
        "outputId": "830da05c-dfc1-438b-a92f-d24c00a3ab9a"
      },
      "execution_count": null,
      "outputs": [
        {
          "output_type": "stream",
          "name": "stdout",
          "text": [
            "Training accuracy: 44.72%\n"
          ]
        }
      ]
    },
    {
      "cell_type": "code",
      "source": [
        "# 6. Calculate Accuracy on Test Set\n",
        "correct_test = 0  # Initialize correct count for test set\n",
        "total_test = 0  # Initialize total sample count for test set\n",
        "with torch.no_grad():  # Disable gradient computation\n",
        "    for data in testloader:  # Loop through test data\n",
        "        inputs, labels = data  # Unpack data\n",
        "        Nte = inputs.shape[0]  # Batch size\n",
        "        x_test = inputs.view(Nte, -1)  # Flatten input\n",
        "\n",
        "        # Forward pass\n",
        "        hidden_output = sigmoid(x_test.mm(w1) + b1)  # Calculate hidden layer output\n",
        "        y_test_pred = torch.softmax(hidden_output.mm(w2) + b2, dim=1)  # Calculate output layer predictions\n",
        "        predicted_test = torch.argmax(y_test_pred, dim=1)  # Get predicted class\n",
        "        total_test += labels.size(0)  # Update total count\n",
        "        correct_test += (predicted_test == labels).sum().item()  # Update correct count\n",
        "\n",
        "test_acc = 100 * correct_test / total_test  # Calculate test accuracy\n",
        "print(f\"Test accuracy: {test_acc:.2f}%\")  # Print test accuracy"
      ],
      "metadata": {
        "colab": {
          "base_uri": "https://localhost:8080/"
        },
        "id": "88VhASV7eL_b",
        "outputId": "227193ce-c8a8-48d9-f83d-e9620877c015"
      },
      "execution_count": null,
      "outputs": [
        {
          "output_type": "stream",
          "name": "stdout",
          "text": [
            "Test accuracy: 43.37%\n"
          ]
        }
      ]
    },
    {
      "cell_type": "markdown",
      "metadata": {
        "id": "acbxz_PAgxrE"
      },
      "source": [
        "# 2] Create a LeNet-5 network for MNIST Dataset using Pytorch"
      ]
    },
    {
      "cell_type": "code",
      "execution_count": null,
      "metadata": {
        "id": "FVLs6VtT_fwb"
      },
      "outputs": [],
      "source": [
        "import torch\n",
        "import torch.nn as nn  # Import the neural network module\n",
        "import torch.optim as optim  # Import optimization algorithms\n",
        "import torchvision  # Import torchvision for datasets and image manipulation\n",
        "import torchvision.transforms as transforms  # Import transforms for data preprocessing\n",
        "from torch.utils.data import DataLoader  # Import DataLoader for batching data"
      ]
    },
    {
      "cell_type": "markdown",
      "source": [
        "### Check if GPU is available, otherwise use CPU"
      ],
      "metadata": {
        "id": "bs5zx6mji-AY"
      }
    },
    {
      "cell_type": "code",
      "execution_count": null,
      "metadata": {
        "id": "eTSoHnBr_kFo"
      },
      "outputs": [],
      "source": [
        "device = torch.device(\"cuda\" if torch.cuda.is_available() else \"cpu\")"
      ]
    },
    {
      "cell_type": "markdown",
      "source": [
        "## LeNet-5 Model Definition"
      ],
      "metadata": {
        "id": "B9P7cx0MjChn"
      }
    },
    {
      "cell_type": "markdown",
      "source": [
        "1. First Convolutional Layer (Conv2D):\n",
        "    - Input: 1 channel, Output: 6 channels, Kernel size: 5x5\n",
        "    - Activation: ReLU\n",
        "    - Max Pooling with kernel size 2x2, stride 2\n",
        "\n",
        "2. Second Convolutional Layer (Conv2D):\n",
        "    - Input: 6 channels, Output: 16 channels, Kernel size: 5x5\n",
        "    - Activation: ReLU\n",
        "    - Max Pooling with kernel size 2x2, stride 2\n",
        "\n",
        "3. Flatten the Convolutional Output\n",
        "\n",
        "4. First Fully Connected Layer (Dense Layer):\n",
        "    - Input Size: 16 * 5 * 5, Output Size: 120\n",
        "    - Activation: ReLU\n",
        "\n",
        "5. Second Fully Connected Layer (Dense Layer):\n",
        "    - Input Size: 120, Output Size: 84\n",
        "    - Activation: ReLU\n",
        "\n",
        "6. Output Layer (Dense Layer):\n",
        "    - Input Size: 84, Output Size: 10 (Number of classes)\n"
      ],
      "metadata": {
        "id": "fJ8mt7Ldo-sm"
      }
    },
    {
      "cell_type": "markdown",
      "source": [
        "### PyTorch Method 1: Standard Layer-by-Layer Definition"
      ],
      "metadata": {
        "id": "YivCCyyQjD5H"
      }
    },
    {
      "cell_type": "code",
      "execution_count": null,
      "metadata": {
        "id": "5yEoKGRS_npj"
      },
      "outputs": [],
      "source": [
        "import torch\n",
        "import torch.nn as nn\n",
        "\n",
        "class LeNet5(nn.Module):  # Define LeNet-5 model as a subclass of nn.Module\n",
        "    def __init__(self):  # Constructor method to initialize the model layers\n",
        "        super(LeNet5, self).__init__()  # Call the parent class constructor\n",
        "        self.conv1 = nn.Conv2d(1, 6, kernel_size=5, stride=1, padding=2)  # First convolutional layer (input channels: 1, output channels: 6)\n",
        "        self.conv2 = nn.Conv2d(6, 16, kernel_size=5, stride=1)  # Second convolutional layer (input channels: 6, output channels: 16)\n",
        "        self.fc1 = nn.Linear(16 * 5 * 5, 120)  # First fully connected layer (input size: 16 * 5 * 5, output size: 120)\n",
        "        self.fc2 = nn.Linear(120, 84)  # Second fully connected layer (input size: 120, output size: 84)\n",
        "        self.fc3 = nn.Linear(84, 10)  # Third fully connected layer (input size: 84, output size: 10)\n",
        "\n",
        "    def forward(self, x):  # Define the forward pass\n",
        "        x = torch.relu(self.conv1(x))  # Apply ReLU activation to the output of the first convolutional layer\n",
        "        x = torch.max_pool2d(x, kernel_size=2, stride=2)  # Apply max pooling with kernel size 2 and stride 2\n",
        "        x = torch.relu(self.conv2(x))  # Apply ReLU activation to the output of the second convolutional layer\n",
        "        x = torch.max_pool2d(x, kernel_size=2, stride=2)  # Apply max pooling with kernel size 2 and stride 2\n",
        "        x = x.view(-1, 16 * 5 * 5)  # Flatten the tensor to prepare for fully connected layers\n",
        "        x = torch.relu(self.fc1(x))  # Apply ReLU activation to the first fully connected layer\n",
        "        x = torch.relu(self.fc2(x))  # Apply ReLU activation to the second fully connected layer\n",
        "        x = self.fc3(x)  # Output layer (no activation, logits for classification)\n",
        "        return x  # Return the final output"
      ]
    },
    {
      "cell_type": "markdown",
      "source": [
        "### PyTorch Method 2: Using nn.Sequential for Convolution Layers"
      ],
      "metadata": {
        "id": "WJKRzjk8jNHr"
      }
    },
    {
      "cell_type": "code",
      "source": [
        "import torch\n",
        "import torch.nn as nn\n",
        "\n",
        "class LeNet5(nn.Module):\n",
        "    def __init__(self):\n",
        "        super(LeNet5, self).__init__()\n",
        "        self.conv_layers = nn.Sequential(\n",
        "            nn.Conv2d(1, 6, kernel_size=5, stride=1, padding=2),\n",
        "            nn.ReLU(),\n",
        "            nn.MaxPool2d(kernel_size=2, stride=2),\n",
        "            nn.Conv2d(6, 16, kernel_size=5, stride=1),\n",
        "            nn.ReLU(),\n",
        "            nn.MaxPool2d(kernel_size=2, stride=2)\n",
        "        )\n",
        "        self.fc1 = nn.Linear(16 * 5 * 5, 120)\n",
        "        self.fc2 = nn.Linear(120, 84)\n",
        "        self.fc3 = nn.Linear(84, 10)\n",
        "\n",
        "    def forward(self, x):\n",
        "        x = self.conv_layers(x)\n",
        "        x = x.view(-1, 16 * 5 * 5)\n",
        "        x = torch.relu(self.fc1(x))\n",
        "        x = torch.relu(self.fc2(x))\n",
        "        x = self.fc3(x)\n",
        "        return x"
      ],
      "metadata": {
        "id": "JarNrqsTj7-u"
      },
      "execution_count": null,
      "outputs": []
    },
    {
      "cell_type": "markdown",
      "source": [
        "### TensorFlow Method 3: Functional"
      ],
      "metadata": {
        "id": "ANca2Tqwm0KT"
      }
    },
    {
      "cell_type": "code",
      "source": [
        "import tensorflow as tf\n",
        "\n",
        "def LeNet5(inputs):\n",
        "    x = tf.keras.layers.Conv2D(6, kernel_size=5, strides=1, padding='same', activation='relu')(inputs)\n",
        "    x = tf.keras.layers.MaxPooling2D(pool_size=2, strides=2)(x)\n",
        "    x = tf.keras.layers.Conv2D(16, kernel_size=5, strides=1, activation='relu')(x)\n",
        "    x = tf.keras.layers.MaxPooling2D(pool_size=2, strides=2)(x)\n",
        "    x = tf.keras.layers.Flatten()(x)\n",
        "    x = tf.keras.layers.Dense(120, activation='relu')(x)\n",
        "    x = tf.keras.layers.Dense(84, activation='relu')(x)\n",
        "    x = tf.keras.layers.Dense(10, activation='softmax', name=\"classification\")(x)\n",
        "    return x\n",
        "\n",
        "inputs = tf.keras.Input(shape=(32, 32, 1))\n",
        "outputs = LeNet5(inputs)\n",
        "model = tf.keras.Model(inputs=inputs, outputs=outputs)\n",
        "\n",
        "model.compile(optimizer='sgd', loss='sparse_categorical_crossentropy', metrics=['accuracy'])\n",
        "model.summary()"
      ],
      "metadata": {
        "id": "YKxXa5nfm3py"
      },
      "execution_count": null,
      "outputs": []
    },
    {
      "cell_type": "markdown",
      "source": [
        "### TensorFlow Method 4: Sequential"
      ],
      "metadata": {
        "id": "iWQ1BYnsm6MU"
      }
    },
    {
      "cell_type": "code",
      "source": [
        "import tensorflow as tf\n",
        "from tensorflow.keras.models import Sequential\n",
        "from tensorflow.keras.layers import Conv2D, MaxPooling2D, Flatten, Dense\n",
        "\n",
        "model = Sequential()\n",
        "model.add(Conv2D(6, kernel_size=5, strides=1, padding='same', activation='relu', input_shape=(32, 32, 1)))\n",
        "model.add(MaxPooling2D(pool_size=2, strides=2))\n",
        "model.add(Conv2D(16, kernel_size=5, strides=1, activation='relu'))\n",
        "model.add(MaxPooling2D(pool_size=2, strides=2))\n",
        "model.add(Flatten())\n",
        "model.add(Dense(120, activation='relu'))\n",
        "model.add(Dense(84, activation='relu'))\n",
        "model.add(Dense(10, activation='softmax'))\n",
        "\n",
        "model.compile(optimizer='sgd', loss='sparse_categorical_crossentropy', metrics=['accuracy'])\n",
        "model.summary()"
      ],
      "metadata": {
        "id": "x0xAmtM3m8h-"
      },
      "execution_count": null,
      "outputs": []
    },
    {
      "cell_type": "markdown",
      "source": [
        "### Summary of the Four Approaches:\n",
        "\n",
        "1. **PyTorch Method 1 (Standard Layer-by-Layer Definition)**:\n",
        "   - PyTorch model layers are defined individually in the constructor.\n",
        "   - This allows you to maintain flexibility, as each layer is instantiated separately.\n",
        "   - Pros: Good for learning and understanding each layer individually. Fine control over the architecture.\n",
        "   - Cons: Slightly verbose and harder to maintain as models grow more complex.\n",
        "\n",
        "2. **PyTorch Method 2 (Using `nn.Sequential`)**:\n",
        "   - Uses `nn.Sequential` to create a block of layers that are automatically stacked.\n",
        "   - Simplifies the model definition by removing the need to write individual forward propagation.\n",
        "   - Pros: Easier to write and maintain for simpler models. Reduces verbosity in the forward function.\n",
        "   - Cons: Not as flexible if the model needs custom branching or multiple input/output.\n",
        "\n",
        "3. **TensorFlow Method 3 (Functional API)**:\n",
        "   - The Functional API provides explicit connectivity between each layer.\n",
        "   - Useful for more advanced models that might need multiple inputs/outputs or branching.\n",
        "   - Pros: Highly flexible, and good for any complex architecture. More explicit.\n",
        "   - Cons: Verbose for simple models. More effort is needed to connect layers manually.\n",
        "\n",
        "4. **TensorFlow Method 4 (Sequential API)**:\n",
        "   - Defines the model as a linear stack of layers using `Sequential`.\n",
        "   - Ideal for simple models without any need for branching.\n",
        "   - Pros: Very easy to implement for straightforward models. Concise and readable.\n",
        "   - Cons: Not suitable for complex architectures, such as those with shared layers or multiple paths.\n",
        "\n",
        "\n",
        "### When to Use Each Approach:\n",
        "\n",
        "- **PyTorch Layer-by-Layer & TensorFlow Functional API ()**:\n",
        "  - Useful when you need the flexibility to define complex models, including shared weights, multiple inputs/outputs, and non-linear data flows.\n",
        "  - Ideal for research and advanced model development where custom operations are required.\n",
        "\n",
        "- ** PyTorch `nn.Sequential` & TensorFlow Sequential API**:\n",
        "  - Ideal for simple feed-forward models or when developing models rapidly without needing branching structures.\n",
        "  - Great for beginners or simple prototyping where the architecture is straightforward.\n",
        "\n",
        "  \n",
        "\n",
        "### Pros and Cons of Each Method:\n",
        "\n",
        "| Method                          | Pros                                                      | Cons                                                        |\n",
        "|---------------------------------|-----------------------------------------------------------|-------------------------------------------------------------|\n",
        "| **PyTorch Layer-by-Layer**      | Fine control over individual layers and flexibility.      | More verbose, harder to maintain as models get complex.     |\n",
        "| **PyTorch `nn.Sequential`**     | Concise and good for stacking layers directly.            | Less flexibility if you need to add different paths or custom operations. |\n",
        "| **TensorFlow Functional API**   | Very flexible for complex architectures (e.g., multiple inputs/outputs). | Verbose for simple models, requires explicit layer connections. |\n",
        "| **TensorFlow Sequential API**   | Very readable and easy for straightforward architectures. | Limited flexibility for complex model designs.              |\n",
        "\n"
      ],
      "metadata": {
        "id": "2ChpEUo7kK5q"
      }
    },
    {
      "cell_type": "markdown",
      "source": [
        "## Model, Loss, and Optimizer"
      ],
      "metadata": {
        "id": "Ptl9YVUekCz-"
      }
    },
    {
      "cell_type": "code",
      "execution_count": null,
      "metadata": {
        "id": "S7LqXHKkZPSx"
      },
      "outputs": [],
      "source": [
        "model = LeNet5().to(device)  # Instantiate the LeNet-5 model and move it to the appropriate device\n",
        "criterion = nn.CrossEntropyLoss()  # Define the loss function (cross-entropy loss for classification)\n",
        "optimizer = optim.SGD(model.parameters(), lr=0.01, momentum=0.9)  # Define the optimizer (stochastic gradient descent with momentum)"
      ]
    },
    {
      "cell_type": "markdown",
      "source": [
        "## Data Preparation"
      ],
      "metadata": {
        "id": "YdeN9Sz8kGP5"
      }
    },
    {
      "cell_type": "code",
      "execution_count": null,
      "metadata": {
        "colab": {
          "base_uri": "https://localhost:8080/"
        },
        "id": "4L3DNARI_srs",
        "outputId": "d420d3c8-36f2-474a-ce78-3a2b99a40f77"
      },
      "outputs": [
        {
          "output_type": "stream",
          "name": "stdout",
          "text": [
            "Downloading http://yann.lecun.com/exdb/mnist/train-images-idx3-ubyte.gz\n",
            "Failed to download (trying next):\n",
            "HTTP Error 403: Forbidden\n",
            "\n",
            "Downloading https://ossci-datasets.s3.amazonaws.com/mnist/train-images-idx3-ubyte.gz\n",
            "Downloading https://ossci-datasets.s3.amazonaws.com/mnist/train-images-idx3-ubyte.gz to ./data/MNIST/raw/train-images-idx3-ubyte.gz\n"
          ]
        },
        {
          "output_type": "stream",
          "name": "stderr",
          "text": [
            "100%|██████████| 9.91M/9.91M [00:00<00:00, 34.3MB/s]\n"
          ]
        },
        {
          "output_type": "stream",
          "name": "stdout",
          "text": [
            "Extracting ./data/MNIST/raw/train-images-idx3-ubyte.gz to ./data/MNIST/raw\n",
            "\n",
            "Downloading http://yann.lecun.com/exdb/mnist/train-labels-idx1-ubyte.gz\n",
            "Failed to download (trying next):\n",
            "HTTP Error 403: Forbidden\n",
            "\n",
            "Downloading https://ossci-datasets.s3.amazonaws.com/mnist/train-labels-idx1-ubyte.gz\n",
            "Downloading https://ossci-datasets.s3.amazonaws.com/mnist/train-labels-idx1-ubyte.gz to ./data/MNIST/raw/train-labels-idx1-ubyte.gz\n"
          ]
        },
        {
          "output_type": "stream",
          "name": "stderr",
          "text": [
            "100%|██████████| 28.9k/28.9k [00:00<00:00, 1.35MB/s]\n"
          ]
        },
        {
          "output_type": "stream",
          "name": "stdout",
          "text": [
            "Extracting ./data/MNIST/raw/train-labels-idx1-ubyte.gz to ./data/MNIST/raw\n",
            "\n",
            "Downloading http://yann.lecun.com/exdb/mnist/t10k-images-idx3-ubyte.gz\n",
            "Failed to download (trying next):\n",
            "HTTP Error 403: Forbidden\n",
            "\n",
            "Downloading https://ossci-datasets.s3.amazonaws.com/mnist/t10k-images-idx3-ubyte.gz\n",
            "Downloading https://ossci-datasets.s3.amazonaws.com/mnist/t10k-images-idx3-ubyte.gz to ./data/MNIST/raw/t10k-images-idx3-ubyte.gz\n"
          ]
        },
        {
          "output_type": "stream",
          "name": "stderr",
          "text": [
            "100%|██████████| 1.65M/1.65M [00:00<00:00, 10.2MB/s]\n"
          ]
        },
        {
          "output_type": "stream",
          "name": "stdout",
          "text": [
            "Extracting ./data/MNIST/raw/t10k-images-idx3-ubyte.gz to ./data/MNIST/raw\n",
            "\n",
            "Downloading http://yann.lecun.com/exdb/mnist/t10k-labels-idx1-ubyte.gz\n",
            "Failed to download (trying next):\n",
            "HTTP Error 403: Forbidden\n",
            "\n",
            "Downloading https://ossci-datasets.s3.amazonaws.com/mnist/t10k-labels-idx1-ubyte.gz\n",
            "Downloading https://ossci-datasets.s3.amazonaws.com/mnist/t10k-labels-idx1-ubyte.gz to ./data/MNIST/raw/t10k-labels-idx1-ubyte.gz\n"
          ]
        },
        {
          "output_type": "stream",
          "name": "stderr",
          "text": [
            "100%|██████████| 4.54k/4.54k [00:00<00:00, 3.12MB/s]"
          ]
        },
        {
          "output_type": "stream",
          "name": "stdout",
          "text": [
            "Extracting ./data/MNIST/raw/t10k-labels-idx1-ubyte.gz to ./data/MNIST/raw\n",
            "\n"
          ]
        },
        {
          "output_type": "stream",
          "name": "stderr",
          "text": [
            "\n"
          ]
        }
      ],
      "source": [
        "transform = transforms.Compose([  # Define a sequence of transformations for data preprocessing\n",
        "    transforms.ToTensor(),  # Convert the image to a PyTorch tensor\n",
        "    transforms.Normalize((0.5,), (0.5,))  # Normalize the image with mean 0.5 and standard deviation 0.5\n",
        "])\n",
        "\n",
        "# Load MNIST dataset for training and testing\n",
        "train_dataset = torchvision.datasets.MNIST(root='./data', train=True, download=True, transform=transform)  # Load training set\n",
        "test_dataset = torchvision.datasets.MNIST(root='./data', train=False, download=True, transform=transform)  # Load test set\n",
        "\n",
        "# Create data loaders for batching training and test datasets\n",
        "train_loader = DataLoader(train_dataset, batch_size=64, shuffle=True)  # DataLoader for training set (batch size: 64)\n",
        "test_loader = DataLoader(test_dataset, batch_size=1000, shuffle=False)  # DataLoader for test set (batch size: 1000)\n"
      ]
    },
    {
      "cell_type": "markdown",
      "source": [
        "### First few images from the batch"
      ],
      "metadata": {
        "id": "LAj0-cgUnocS"
      }
    },
    {
      "cell_type": "code",
      "source": [
        "# Get a batch of training data\n",
        "dataiter = iter(train_loader)\n",
        "images, labels = next(dataiter)\n",
        "\n",
        "# Plot the first few images from the batch\n",
        "fig, axes = plt.subplots(1, 5, figsize=(15, 5))\n",
        "for i in range(5):\n",
        "    # Since images are normalized, unnormalize them for visualization\n",
        "    img = images[i] / 2 + 0.5  # Unnormalize the image\n",
        "    img = img.numpy()\n",
        "    axes[i].imshow(img[0], cmap='gray')\n",
        "    axes[i].set_title(f'Label: {labels[i]}')\n",
        "    axes[i].axis('off')\n",
        "\n",
        "plt.show()"
      ],
      "metadata": {
        "colab": {
          "base_uri": "https://localhost:8080/",
          "height": 156
        },
        "id": "WO_3oDFTnqxG",
        "outputId": "fdc616d8-5328-4004-8f74-7453a9d26c5c"
      },
      "execution_count": null,
      "outputs": [
        {
          "output_type": "display_data",
          "data": {
            "text/plain": [
              "<Figure size 1500x500 with 5 Axes>"
            ],
            "image/png": "[encoded data removed]"
          },
          "metadata": {}
        }
      ]
    },
    {
      "cell_type": "markdown",
      "source": [
        "## Training Loop"
      ],
      "metadata": {
        "id": "HjC3YHSGnWne"
      }
    },
    {
      "cell_type": "code",
      "execution_count": null,
      "metadata": {
        "colab": {
          "background_save": true,
          "base_uri": "https://localhost:8080/"
        },
        "id": "bAs8L7v__5HC",
        "outputId": "77f94783-bdcd-4fbd-e642-b761780fc4b9"
      },
      "outputs": [
        {
          "name": "stdout",
          "output_type": "stream",
          "text": [
            "Epoch [1/10], Loss: 0.4019, Training Accuracy: 86.69%\n",
            "Epoch [2/10], Loss: 0.0632, Training Accuracy: 98.05%\n",
            "Epoch [3/10], Loss: 0.0445, Training Accuracy: 98.61%\n",
            "Epoch [4/10], Loss: 0.0363, Training Accuracy: 98.89%\n",
            "Epoch [5/10], Loss: 0.0276, Training Accuracy: 99.14%\n",
            "Epoch [6/10], Loss: 0.0238, Training Accuracy: 99.22%\n",
            "Epoch [7/10], Loss: 0.0194, Training Accuracy: 99.39%\n",
            "Epoch [8/10], Loss: 0.0169, Training Accuracy: 99.45%\n",
            "Epoch [9/10], Loss: 0.0146, Training Accuracy: 99.54%\n",
            "Epoch [10/10], Loss: 0.0121, Training Accuracy: 99.60%\n"
          ]
        }
      ],
      "source": [
        "num_epochs = 10  # Number of epochs to train the model\n",
        "for epoch in range(num_epochs):  # Loop over epochs\n",
        "    model.train()  # Set the model to training mode\n",
        "    running_loss = 0.0  # Initialize running loss\n",
        "    correct = 0  # Initialize count of correct predictions\n",
        "    total = 0  # Initialize total number of samples\n",
        "\n",
        "    for images, labels in train_loader:  # Loop over training data in batches\n",
        "        images, labels = images.to(device), labels.to(device)  # Move images and labels to the device\n",
        "\n",
        "        # Forward pass\n",
        "        outputs = model(images)  # Get model predictions\n",
        "        loss = criterion(outputs, labels)  # Compute the loss\n",
        "\n",
        "        # Backward pass and optimization\n",
        "        optimizer.zero_grad()  # Zero the gradients\n",
        "        loss.backward()  # Backpropagate the loss\n",
        "        optimizer.step()  # Update model parameters\n",
        "\n",
        "        running_loss += loss.item()  # Accumulate the loss\n",
        "        _, predicted = torch.max(outputs, 1)  # Get the predicted class with the highest probability\n",
        "        total += labels.size(0)  # Update the total count of samples\n",
        "        correct += (predicted == labels).sum().item()  # Update the count of correct predictions\n",
        "\n",
        "    train_accuracy = 100 * correct / total  # Calculate training accuracy\n",
        "    print(f'Epoch [{epoch + 1}/{num_epochs}], Loss: {running_loss / len(train_loader):.4f}, Training Accuracy: {train_accuracy:.2f}%')  # Print epoch summary\n"
      ]
    },
    {
      "cell_type": "code",
      "execution_count": null,
      "metadata": {
        "colab": {
          "background_save": true
        },
        "id": "mOAi4i3q_7n7",
        "outputId": "6521cfff-2463-47b2-f0fa-b627bd6d2cbf"
      },
      "outputs": [
        {
          "name": "stdout",
          "output_type": "stream",
          "text": [
            "Test Accuracy: 98.97%\n"
          ]
        }
      ],
      "source": [
        "# Test the Model\n",
        "def test():  # Define the function to test the model\n",
        "    model.eval()  # Set the model to evaluation mode\n",
        "    correct = 0  # Initialize count of correct predictions\n",
        "    total = 0  # Initialize total number of samples\n",
        "    with torch.no_grad():  # Disable gradient computation\n",
        "        for images, labels in test_loader:  # Loop over test data in batches\n",
        "            images, labels = images.to(device), labels.to(device)  # Move images and labels to the device\n",
        "            outputs = model(images)  # Get model predictions\n",
        "            _, predicted = torch.max(outputs, 1)  # Get the predicted class with the highest probability\n",
        "            total += labels.size(0)  # Update the total count of samples\n",
        "            correct += (predicted == labels).sum().item()  # Update the count of correct predictions\n",
        "\n",
        "    test_accuracy = 100 * correct / total  # Calculate test accuracy\n",
        "    print(f'Test Accuracy: {test_accuracy:.2f}%')  # Print test accuracy\n",
        "\n",
        "test()  # Call the test function to evaluate the model on the test set"
      ]
    },
    {
      "cell_type": "markdown",
      "metadata": {
        "id": "-ZSTSv3SiBT2"
      },
      "source": [
        "# 3] Transfer learning a pre-trained ResNet18 network on ImageNet1K to classify Hymenoptera dataset."
      ]
    },
    {
      "cell_type": "code",
      "source": [
        "import torch\n",
        "import torch.nn as nn  # Import neural network modules\n",
        "import torch.optim as optim  # Import optimization algorithms\n",
        "import torchvision  # Import torchvision for datasets and models\n",
        "import torchvision.transforms as transforms  # Import transforms for image preprocessing\n",
        "import torchvision.datasets as datasets  # Import datasets module for loading datasets\n",
        "import torchvision.models as models  # Import models module for using pre-trained models\n",
        "from torch.utils.data import DataLoader  # Import DataLoader for batching data\n",
        "import matplotlib.pyplot as plt  # Import for plotting graphs\n",
        "import os  # Import os for interacting with the operating system\n",
        "import zipfile  # Import zipfile for extracting zip files\n",
        "import urllib.request  # Import urllib to download files from the internet\n",
        "\n",
        "# Device configuration\n",
        "device = torch.device(\"cuda\" if torch.cuda.is_available() else \"cpu\")  # Set device to GPU if available, otherwise use CPU"
      ],
      "metadata": {
        "id": "TBes5NnUazg_"
      },
      "execution_count": null,
      "outputs": []
    },
    {
      "cell_type": "markdown",
      "source": [
        "## Data Preparation"
      ],
      "metadata": {
        "id": "469IMu3xpbEZ"
      }
    },
    {
      "cell_type": "code",
      "source": [
        "# Download and extract the dataset in Google Colab\n",
        "url = \"https://download.pytorch.org/tutorial/hymenoptera_data.zip\"  # URL of the dataset\n",
        "data_dir = \"./hymenoptera_data\"  # Directory to store the dataset\n",
        "\n",
        "if not os.path.exists(data_dir):  # Check if the dataset directory exists\n",
        "    urllib.request.urlretrieve(url, \"hymenoptera_data.zip\")  # Download the dataset zip file\n",
        "    with zipfile.ZipFile(\"hymenoptera_data.zip\", 'r') as zip_ref:  # Open the zip file\n",
        "        zip_ref.extractall(\".\")  # Extract the contents of the zip file\n",
        "\n",
        "# Define image transformations\n",
        "transform = transforms.Compose([\n",
        "    transforms.Resize(256),  # Resize the image to 256 pixels on the shorter side\n",
        "    transforms.CenterCrop(224),  # Crop the center of the image to 224x224 pixels\n",
        "    transforms.ToTensor(),  # Convert the image to a PyTorch tensor\n",
        "    transforms.Normalize([0.485, 0.456, 0.406], [0.229, 0.224, 0.225])  # Normalize the image with mean and std values\n",
        "])\n",
        "\n",
        "# Load the training and test datasets\n",
        "train_dataset = datasets.ImageFolder(root=f'{data_dir}/train', transform=transform)  # Load training dataset\n",
        "test_dataset = datasets.ImageFolder(root=f'{data_dir}/val', transform=transform)  # Load validation dataset\n",
        "\n",
        "# Create data loaders for batching the data\n",
        "train_loader = DataLoader(train_dataset, batch_size=16, shuffle=True, num_workers=4)  # DataLoader for training set\n",
        "test_loader = DataLoader(test_dataset, batch_size=16, shuffle=False, num_workers=4)  # DataLoader for test set"
      ],
      "metadata": {
        "id": "AEpr32hda5SS"
      },
      "execution_count": null,
      "outputs": []
    },
    {
      "cell_type": "markdown",
      "source": [
        "##  Load Pre-trained ResNet18"
      ],
      "metadata": {
        "id": "AYcvQ9WGpXXL"
      }
    },
    {
      "cell_type": "code",
      "source": [
        "resnet18 = models.resnet18(pretrained=True)  # Load the pre-trained ResNet18 model"
      ],
      "metadata": {
        "id": "cVwHJLiIa9FE"
      },
      "execution_count": null,
      "outputs": []
    },
    {
      "cell_type": "markdown",
      "source": [
        "## (a) Fine-Tuning"
      ],
      "metadata": {
        "id": "MiETgK_MpgPC"
      }
    },
    {
      "cell_type": "code",
      "source": [
        "# Modify the final layer for classification of 2 classes (ants and bees)\n",
        "num_features = resnet18.fc.in_features  # Get the number of input features of the final layer\n",
        "resnet18.fc = nn.Linear(num_features, 2)  # Replace the final layer with a new layer for 2-class classification\n",
        "resnet18 = resnet18.to(device)  # Move the model to the device\n",
        "\n",
        "# Loss and Optimizer\n",
        "criterion = nn.CrossEntropyLoss()  # Define the loss function (cross-entropy loss for classification)\n",
        "optimizer = optim.SGD(resnet18.parameters(), lr=0.001, momentum=0.9)  # Define the optimizer (SGD with momentum)\n",
        "\n",
        "# Training the Model (Fine-Tuning)\n",
        "num_epochs = 10  # Number of epochs for training\n",
        "resnet18.train()  # Set the model to training mode\n",
        "for epoch in range(num_epochs):  # Loop through each epoch\n",
        "    running_loss = 0.0  # Initialize running loss\n",
        "    correct = 0  # Initialize count of correct predictions\n",
        "    total = 0  # Initialize total number of samples\n",
        "    for inputs, labels in train_loader:  # Loop through batches of training data\n",
        "        inputs, labels = inputs.to(device), labels.to(device)  # Move inputs and labels to the device\n",
        "\n",
        "        # Forward pass\n",
        "        outputs = resnet18(inputs)  # Get model predictions\n",
        "        loss = criterion(outputs, labels)  # Compute the loss\n",
        "\n",
        "        # Backward pass and optimization\n",
        "        optimizer.zero_grad()  # Zero the gradients\n",
        "        loss.backward()  # Backpropagate the loss\n",
        "        optimizer.step()  # Update model parameters\n",
        "\n",
        "        running_loss += loss.item()  # Accumulate the loss\n",
        "        _, predicted = torch.max(outputs, 1)  # Get the predicted class with the highest probability\n",
        "        total += labels.size(0)  # Update the total count of samples\n",
        "        correct += (predicted == labels).sum().item()  # Update the count of correct predictions\n",
        "\n",
        "    train_accuracy = 100 * correct / total  # Calculate training accuracy\n",
        "    print(f'Epoch [{epoch + 1}/{num_epochs}], Loss: {running_loss / len(train_loader):.4f}, Training Accuracy: {train_accuracy:.2f}%')  # Print epoch summary\n",
        "\n",
        "# Testing the Model (Fine-Tuning)\n",
        "resnet18.eval()  # Set the model to evaluation mode\n",
        "correct_test = 0  # Initialize count of correct predictions for test set\n",
        "total_test = 0  # Initialize total number of test samples\n",
        "with torch.no_grad():  # Disable gradient computation\n",
        "    for inputs, labels in test_loader:  # Loop through batches of test data\n",
        "        inputs, labels = inputs.to(device), labels.to(device)  # Move inputs and labels to the device\n",
        "        outputs = resnet18(inputs)  # Get model predictions\n",
        "        _, predicted = torch.max(outputs, 1)  # Get the predicted class with the highest probability\n",
        "        total_test += labels.size(0)  # Update the total count of test samples\n",
        "        correct_test += (predicted == labels).sum().item()  # Update the count of correct predictions\n",
        "\n",
        "test_accuracy = 100 * correct_test / total_test  # Calculate test accuracy\n",
        "print(f'Fine-Tuning Test Accuracy: {test_accuracy:.2f}%')  # Print test accuracy"
      ],
      "metadata": {
        "colab": {
          "base_uri": "https://localhost:8080/"
        },
        "id": "UZDT5EafaXj5",
        "outputId": "3b438777-bac0-4d15-ccc3-9239cb011799"
      },
      "execution_count": null,
      "outputs": [
        {
          "output_type": "stream",
          "name": "stdout",
          "text": [
            "Epoch [1/10], Loss: 0.7836, Training Accuracy: 56.15%\n",
            "Epoch [2/10], Loss: 0.2489, Training Accuracy: 91.39%\n",
            "Epoch [3/10], Loss: 0.1193, Training Accuracy: 97.95%\n",
            "Epoch [4/10], Loss: 0.0970, Training Accuracy: 95.49%\n",
            "Epoch [5/10], Loss: 0.0417, Training Accuracy: 100.00%\n",
            "Epoch [6/10], Loss: 0.0540, Training Accuracy: 99.18%\n",
            "Epoch [7/10], Loss: 0.0281, Training Accuracy: 100.00%\n",
            "Epoch [8/10], Loss: 0.0277, Training Accuracy: 100.00%\n",
            "Epoch [9/10], Loss: 0.0425, Training Accuracy: 99.59%\n",
            "Epoch [10/10], Loss: 0.0239, Training Accuracy: 99.59%\n",
            "Fine-Tuning Test Accuracy: 96.08%\n"
          ]
        }
      ]
    },
    {
      "cell_type": "markdown",
      "source": [
        "## (b) Feature Extraction"
      ],
      "metadata": {
        "id": "OL50DhTPpjmf"
      }
    },
    {
      "cell_type": "code",
      "source": [
        "resnet18 = models.resnet18(pretrained=True)  # Reload the pre-trained ResNet18 model\n",
        "for param in resnet18.parameters():  # Freeze all layers in the model\n",
        "    param.requires_grad = False  # Do not update the parameters during training\n",
        "\n",
        "# Modify the final layer for classification of 2 classes\n",
        "num_features = resnet18.fc.in_features  # Get the number of input features of the final layer\n",
        "resnet18.fc = nn.Linear(num_features, 2)  # Replace the final layer with a new layer for 2-class classification\n",
        "resnet18 = resnet18.to(device)  # Move the model to the device\n",
        "\n",
        "# Only train the final layer\n",
        "optimizer = optim.SGD(resnet18.fc.parameters(), lr=0.001, momentum=0.9)  # Define the optimizer for the final layer\n",
        "\n",
        "# Training the Model (Feature Extraction)\n",
        "resnet18.train()  # Set the model to training mode\n",
        "for epoch in range(num_epochs):  # Loop through each epoch\n",
        "    running_loss = 0.0  # Initialize running loss\n",
        "    correct = 0  # Initialize count of correct predictions\n",
        "    total = 0  # Initialize total number of samples\n",
        "    for inputs, labels in train_loader:  # Loop through batches of training data\n",
        "        inputs, labels = inputs.to(device), labels.to(device)  # Move inputs and labels to the device\n",
        "\n",
        "        # Forward pass\n",
        "        outputs = resnet18(inputs)  # Get model predictions\n",
        "        loss = criterion(outputs, labels)  # Compute the loss\n",
        "\n",
        "        # Backward pass and optimization\n",
        "        optimizer.zero_grad()  # Zero the gradients\n",
        "        loss.backward()  # Backpropagate the loss\n",
        "        optimizer.step()  # Update model parameters (only the final layer)\n",
        "\n",
        "        running_loss += loss.item()  # Accumulate the loss\n",
        "        _, predicted = torch.max(outputs, 1)  # Get the predicted class with the highest probability\n",
        "        total += labels.size(0)  # Update the total count of samples\n",
        "        correct += (predicted == labels).sum().item()  # Update the count of correct predictions\n",
        "\n",
        "    train_accuracy = 100 * correct / total  # Calculate training accuracy\n",
        "    print(f'Epoch [{epoch + 1}/{num_epochs}], Loss: {running_loss / len(train_loader):.4f}, Training Accuracy: {train_accuracy:.2f}%')  # Print epoch summary\n",
        "\n",
        "# Testing the Model (Feature Extraction)\n",
        "resnet18.eval()  # Set the model to evaluation mode\n",
        "correct_test = 0  # Initialize count of correct predictions for test set\n",
        "total_test = 0  # Initialize total number of test samples\n",
        "with torch.no_grad():  # Disable gradient computation\n",
        "    for inputs, labels in test_loader:  # Loop through batches of test data\n",
        "        inputs, labels = inputs.to(device), labels.to(device)  # Move inputs and labels to the device\n",
        "        outputs = resnet18(inputs)  # Get model predictions\n",
        "        _, predicted = torch.max(outputs, 1)  # Get the predicted class with the highest probability\n",
        "        total_test += labels.size(0)  # Update the total count of test samples\n",
        "        correct_test += (predicted == labels).sum().item()  # Update the count of correct predictions\n",
        "\n",
        "test_accuracy = 100 * correct_test / total_test  # Calculate test accuracy\n",
        "print(f'Feature Extraction Test Accuracy: {test_accuracy:.2f}%')  # Print test accuracy"
      ],
      "metadata": {
        "colab": {
          "base_uri": "https://localhost:8080/"
        },
        "id": "GT1H1L44bFzV",
        "outputId": "1e92fb89-cfd9-43a5-cbfb-ee3b470fddc2"
      },
      "execution_count": null,
      "outputs": [
        {
          "output_type": "stream",
          "name": "stdout",
          "text": [
            "Epoch [1/10], Loss: 0.6826, Training Accuracy: 60.66%\n",
            "Epoch [2/10], Loss: 0.3843, Training Accuracy: 83.61%\n",
            "Epoch [3/10], Loss: 0.2437, Training Accuracy: 92.62%\n",
            "Epoch [4/10], Loss: 0.2304, Training Accuracy: 93.03%\n",
            "Epoch [5/10], Loss: 0.2123, Training Accuracy: 93.03%\n",
            "Epoch [6/10], Loss: 0.1702, Training Accuracy: 94.26%\n",
            "Epoch [7/10], Loss: 0.2295, Training Accuracy: 91.39%\n",
            "Epoch [8/10], Loss: 0.1765, Training Accuracy: 93.44%\n",
            "Epoch [9/10], Loss: 0.1620, Training Accuracy: 96.72%\n",
            "Epoch [10/10], Loss: 0.1491, Training Accuracy: 94.26%\n",
            "Feature Extraction Test Accuracy: 94.77%\n"
          ]
        }
      ]
    }
  ]
}